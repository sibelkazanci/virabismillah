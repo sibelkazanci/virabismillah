{
  "nbformat": 4,
  "nbformat_minor": 0,
  "metadata": {
    "colab": {
      "provenance": []
    },
    "kernelspec": {
      "name": "python3",
      "display_name": "Python 3"
    },
    "language_info": {
      "name": "python"
    }
  },
  "cells": [
    {
      "cell_type": "code",
      "execution_count": 9,
      "metadata": {
        "colab": {
          "base_uri": "https://localhost:8080/"
        },
        "id": "j7PCDmxxzML2",
        "outputId": "7eac837e-f8fb-425c-f226-d0686bfafa41"
      },
      "outputs": [
        {
          "output_type": "stream",
          "name": "stdout",
          "text": [
            "Merhaba, İGÜ - İSTKA / Ders 4\n"
          ]
        }
      ],
      "source": [
        "print(\"Merhaba, İGÜ - İSTKA / Ders 4\") # print ekrana çıktı veren bir koddur."
      ]
    },
    {
      "cell_type": "code",
      "source": [
        "import sys # import python programlama dilinde yazılıma kütüphane eklemeye yarayan bir kod blogudur.\n",
        "print(sys.version)"
      ],
      "metadata": {
        "colab": {
          "base_uri": "https://localhost:8080/"
        },
        "id": "bPK7cdokzUzW",
        "outputId": "fdc5561e-8db9-4f06-c795-5064f1605194"
      },
      "execution_count": 8,
      "outputs": [
        {
          "output_type": "stream",
          "name": "stdout",
          "text": [
            "3.10.12 (main, Jul 29 2024, 16:56:48) [GCC 11.4.0]\n"
          ]
        }
      ]
    },
    {
      "cell_type": "code",
      "source": [
        "from google.colab import drive # google colab - drive bağlantısı\n",
        "\n",
        "drive.mount('/content/drive')"
      ],
      "metadata": {
        "colab": {
          "base_uri": "https://localhost:8080/"
        },
        "id": "oMaMLxyOzXQ-",
        "outputId": "f4b4a351-ac97-4c3f-fd1d-45d418017e25"
      },
      "execution_count": 7,
      "outputs": [
        {
          "output_type": "stream",
          "name": "stdout",
          "text": [
            "Mounted at /content/drive\n"
          ]
        }
      ]
    },
    {
      "cell_type": "code",
      "source": [
        "import os\n",
        "\n",
        "os.chdir('/content/drive/My Drive/VERIYAPILARI_ISTKA')\n",
        "\n",
        "!pwd # bize kodun çıktısını dosya yolu olarak veren kod blogudur."
      ],
      "metadata": {
        "colab": {
          "base_uri": "https://localhost:8080/"
        },
        "id": "7GW5CqHIzfM_",
        "outputId": "b90b1b05-81de-4881-d953-17fc756d73e2"
      },
      "execution_count": 10,
      "outputs": [
        {
          "output_type": "stream",
          "name": "stdout",
          "text": [
            "/content/drive/My Drive/VERIYAPILARI_ISTKA\n"
          ]
        }
      ]
    },
    {
      "cell_type": "code",
      "source": [
        "#bir koşul yazılıyorsa kodda if yazılır( türkçede if eğer anlamına gelir)\n",
        "#if ile başlanan kodlarda else ile mutlaka bitirmeliyiz"
      ],
      "metadata": {
        "id": "27DdyJz32Yw_"
      },
      "execution_count": 5,
      "outputs": []
    },
    {
      "cell_type": "code",
      "source": [
        "# if Koşul yapısı    #iki tırnak arasında yazılan bilgiler sptrint\n",
        "\n",
        "x = 10\n",
        "\n",
        "if x > 5:\n",
        "    print(\"x, 5'ten büyüktür.\")"
      ],
      "metadata": {
        "colab": {
          "base_uri": "https://localhost:8080/"
        },
        "id": "BHC4xtGzHEtX",
        "outputId": "4db22a7e-c719-4d54-e875-f7085de0809a"
      },
      "execution_count": 4,
      "outputs": [
        {
          "output_type": "stream",
          "name": "stdout",
          "text": [
            "x, 5'ten büyüktür.\n"
          ]
        }
      ]
    },
    {
      "cell_type": "code",
      "source": [
        "#if-else Koşulu yapısı\n",
        "\n",
        "x=3\n",
        "\n",
        "if x > 5:\n",
        "  print(\"x,5'ten büyüktür.\")\n",
        "\n",
        "else:\n",
        "  print(\"x,5'ten küçük veya eşittir.\")"
      ],
      "metadata": {
        "colab": {
          "base_uri": "https://localhost:8080/"
        },
        "id": "t73_-bVsIWMo",
        "outputId": "755c8c07-ecdf-401e-92f9-9be216c15b76"
      },
      "execution_count": 3,
      "outputs": [
        {
          "output_type": "stream",
          "name": "stdout",
          "text": [
            "x,5'ten küçük veya eşittir.\n"
          ]
        }
      ]
    },
    {
      "cell_type": "code",
      "source": [
        "#if-elif-else Koşul yapısı\n",
        "\n",
        "x=8\n",
        "\n",
        "if x >10:\n",
        "  print(\"x,10'dan büyüktür.\")\n",
        "\n",
        "elif x >5:\n",
        "  print(\"x,5'ten büyüktür ama 10'dan küçük veya eşittir.\")\n",
        "\n",
        "else:\n",
        "  print(\"x,5'ten küçük veya eşittir.\")"
      ],
      "metadata": {
        "colab": {
          "base_uri": "https://localhost:8080/"
        },
        "id": "UejFQyxmJmCa",
        "outputId": "56799e24-9d24-4492-e6a8-cb1c31152e38"
      },
      "execution_count": 11,
      "outputs": [
        {
          "output_type": "stream",
          "name": "stdout",
          "text": [
            "x,5'ten büyüktür ama 10'dan küçük veya eşittir.\n"
          ]
        }
      ]
    },
    {
      "cell_type": "code",
      "source": [
        "#iç içe koşul yapısı\n",
        "\n",
        "x=12\n",
        "y=8\n",
        "\n",
        "if x > 10:\n",
        "  if y > 5:\n",
        "    print(\"x,10'dan büyük ve y, 5'ten büyüktür.\") #bu satır çalışır\n",
        "\n",
        "  else:\n",
        "         print(\"x,10'dan büyük am y, 5'ten küçük veya eşittir.\")\n",
        "\n",
        "else:\n",
        "      print(\"x, 10'dan küçük veya eşittir.\")"
      ],
      "metadata": {
        "colab": {
          "base_uri": "https://localhost:8080/"
        },
        "id": "fviH5WwELKw5",
        "outputId": "020b9183-12c4-46ff-9f01-a4b435081aa3"
      },
      "execution_count": 2,
      "outputs": [
        {
          "output_type": "stream",
          "name": "stdout",
          "text": [
            "x,10'dan büyük ve y, 5'ten büyüktür.\n"
          ]
        }
      ]
    },
    {
      "cell_type": "code",
      "source": [
        "#Mantıksal Operatörler ile Koşullar\n",
        "\n",
        "x=7\n",
        "y=3\n",
        "\n",
        "#'and'operatörü ile\n",
        "if x > 5 and y > 2 :\n",
        "   print(\"x,5'ten büyük ve y,2'den büyüktür.\")\n",
        "\n",
        "#'or' operatörü ile\n",
        "if x >5 or y > 5:\n",
        "    print(\"x veya y, 5'ten büyüktür.\") #bu satır çalışır\n",
        "\n",
        "#'no' operatörü ile\n",
        "if not (x>10):\n",
        "  print(\"x,10'dan büyük değildir.\")"
      ],
      "metadata": {
        "colab": {
          "base_uri": "https://localhost:8080/"
        },
        "id": "pcR5t7EtMtBy",
        "outputId": "e52bdf1b-76fb-4961-cfaa-f3d7caacee5c"
      },
      "execution_count": 1,
      "outputs": [
        {
          "output_type": "stream",
          "name": "stdout",
          "text": [
            "x,5'ten büyük ve y,2'den büyüktür.\n",
            "x veya y, 5'ten büyüktür.\n",
            "x,10'dan büyük değildir.\n"
          ]
        }
      ]
    },
    {
      "cell_type": "code",
      "source": [
        "# Örnek 1. Not istemi\n",
        "\n",
        "notu=85 #not farkını gösterecek\n",
        "\n",
        "if notu>=90:\n",
        "  print(\"Harf notu:A\")\n",
        "elif notu>=80:\n",
        "  print(\"Harf notu:B\") #bu satır çalışır\n",
        "elif notu >=70:\n",
        "  print(\"Harf notu:C\")\n",
        "elif notu >60:\n",
        "  print(\"Harf notu.D\")\n",
        "else:\n",
        "  print(\"Harf notu:F\")\n"
      ],
      "metadata": {
        "id": "Ba2xovwiRK5C",
        "colab": {
          "base_uri": "https://localhost:8080/"
        },
        "outputId": "8f80b39a-c9eb-4b31-e530-aea9ac854680"
      },
      "execution_count": 12,
      "outputs": [
        {
          "output_type": "stream",
          "name": "stdout",
          "text": [
            "Harf notu:B\n"
          ]
        }
      ]
    },
    {
      "cell_type": "code",
      "source": [
        "#Örnek2. Yaş Kontrolü\n",
        "\n",
        "yas=20\n",
        "\n",
        "if yas< 18:\n",
        "  print(\"Reşit değilsiniz.\")\n",
        "elif yas< 21:\n",
        "  print(\"Reşitsiniz ama içeçek satın alamazsınız\")\n",
        "else:\n",
        "  print(\"İçeçek satın alabilirsiniz.\")\n",
        "\n"
      ],
      "metadata": {
        "colab": {
          "base_uri": "https://localhost:8080/"
        },
        "id": "5xrB2fkWS-Ba",
        "outputId": "61ed1b57-1d07-4ba3-d5c3-b565148c2333"
      },
      "execution_count": 13,
      "outputs": [
        {
          "output_type": "stream",
          "name": "stdout",
          "text": [
            "Reşitsiniz ama içeçek satın alamazsınız\n"
          ]
        }
      ]
    },
    {
      "cell_type": "code",
      "source": [
        "boy=1.70\n",
        "\n",
        "if boy< 1.45:\n",
        " print(\"Boyunuz yeterli.\")\n",
        "\n",
        "elif boy<1.70:\n",
        " print(\"boyunuz yeterli ama seçmelere uygun değilsiniz.\")\n",
        "\n",
        "else:\n",
        "  print(\"seçmelere tekrar katılabilirsiniz\")\n"
      ],
      "metadata": {
        "colab": {
          "base_uri": "https://localhost:8080/"
        },
        "id": "Bh2DaCtRUToL",
        "outputId": "76c23166-db18-42db-8392-d0bf752d1331"
      },
      "execution_count": 14,
      "outputs": [
        {
          "output_type": "stream",
          "name": "stdout",
          "text": [
            "seçmelere tekrar katılabilirsiniz\n"
          ]
        }
      ]
    },
    {
      "cell_type": "code",
      "source": [
        "#Örnek 3: Sayı pozitif, Negatif veya Sıfır mı?\n",
        "\n",
        "sayi=-5\n",
        "\n",
        "if sayi> 0:\n",
        "  print(\"Sayı pozitiftir.\")\n",
        "elif sayi< 0:\n",
        "  print(\"Sayı negatiftir.\")\n",
        "else:\n",
        "  print(\"Sayı sıfırdır.\")"
      ],
      "metadata": {
        "colab": {
          "base_uri": "https://localhost:8080/"
        },
        "id": "LxhSejhWVIZJ",
        "outputId": "4898bd4a-c283-4269-fb61-f102fcf69fcc"
      },
      "execution_count": 15,
      "outputs": [
        {
          "output_type": "stream",
          "name": "stdout",
          "text": [
            "Sayı negatiftir.\n"
          ]
        }
      ]
    },
    {
      "cell_type": "code",
      "source": [
        "sayi = int(input(\"Bir sayı gir\"))\n",
        "\n",
        "if sayi > 0:\n",
        "    print(\"Sayı pozitiftir.\")\n",
        "elif sayi < 0:\n",
        "    print(\"Sayı negatiftir.\")  # Bu satır çalışır\n",
        "else:\n",
        "    print(\"Sayı sıfırdır.\")"
      ],
      "metadata": {
        "colab": {
          "base_uri": "https://localhost:8080/"
        },
        "id": "6O9p34PDWHRK",
        "outputId": "1ddf8026-9af5-4dd1-b36a-ddd81c8716ef"
      },
      "execution_count": 20,
      "outputs": [
        {
          "output_type": "stream",
          "name": "stdout",
          "text": [
            "Bir sayı gir-2\n",
            "Sayı negatiftir.\n"
          ]
        }
      ]
    }
  ]
}